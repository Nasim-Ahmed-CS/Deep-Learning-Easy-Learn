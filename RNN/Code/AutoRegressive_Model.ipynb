{
  "nbformat": 4,
  "nbformat_minor": 0,
  "metadata": {
    "colab": {
      "provenance": []
    },
    "kernelspec": {
      "name": "python3",
      "display_name": "Python 3"
    },
    "language_info": {
      "name": "python"
    }
  },
  "cells": [
    {
      "cell_type": "code",
      "execution_count": 1,
      "metadata": {
        "id": "4c43_zuI2XPb"
      },
      "outputs": [],
      "source": [
        "import numpy as np\n",
        "import matplotlib.pyplot as plt"
      ]
    },
    {
      "cell_type": "code",
      "source": [
        "N = 1000\n",
        "series = np.sin(0.1 * np.arange(N))\n",
        "#plt.plot(series)"
      ],
      "metadata": {
        "colab": {
          "base_uri": "https://localhost:8080/"
        },
        "id": "Z904-px82h9T",
        "outputId": "46a97302-d54c-4c54-be7c-99cfc20bc585"
      },
      "execution_count": 6,
      "outputs": [
        {
          "output_type": "stream",
          "name": "stdout",
          "text": [
            "[0.         0.84147098 0.90929743]\n"
          ]
        }
      ]
    },
    {
      "cell_type": "code",
      "source": [
        "X = []\n",
        "Y = []\n",
        "T = 10\n",
        "for t in range(N - T):\n",
        "  x = series[t: t + T]\n",
        "  y = series[t + T]\n",
        "  X.append(x)\n",
        "  Y.append(y)\n",
        "\n",
        "X = np.array(X).reshape(-1, T)\n",
        "Y = np.array(Y).reshape(-1, 1)\n"
      ],
      "metadata": {
        "colab": {
          "base_uri": "https://localhost:8080/"
        },
        "id": "l_fydDGX7a9s",
        "outputId": "6f9c4f90-073b-4887-e481-59a59d3027a0"
      },
      "execution_count": 15,
      "outputs": [
        {
          "output_type": "execute_result",
          "data": {
            "text/plain": [
              "(990, 1)"
            ]
          },
          "metadata": {},
          "execution_count": 15
        }
      ]
    },
    {
      "cell_type": "code",
      "source": [
        "import torch\n",
        "import torch.nn as nn\n",
        "import numpy as np\n",
        "\n",
        "# Assuming series is your time series data\n",
        "series = np.array([...])  # Your time series data\n",
        "\n",
        "# Hyperparameters\n",
        "T = 10  # Number of time steps to look back\n",
        "input_size = 1  # Assuming univariate time series\n",
        "output_size = 1  # Assuming single value prediction\n",
        "hidden_size = 32\n",
        "learning_rate = 0.001\n",
        "num_epochs = 100\n",
        "\n",
        "# Prepare data\n",
        "X = []\n",
        "Y = []\n",
        "N = len(series)\n",
        "for t in range(N - T):\n",
        "    x = series[t: t + T]\n",
        "    y = series[t + T]\n",
        "    X.append(x)\n",
        "    Y.append(y)\n",
        "\n",
        "X = np.array(X).reshape(-1, T, input_size)\n",
        "Y = np.array(Y).reshape(-1, output_size)\n",
        "\n",
        "# Convert to PyTorch tensors\n",
        "X_train = torch.from_numpy(X.astype(np.float32))\n",
        "Y_train = torch.from_numpy(Y.astype(np.float32))\n",
        "\n",
        "# Define the model\n",
        "class SimpleRNN(nn.Module):\n",
        "    def __init__(self, input_size, hidden_size, output_size):\n",
        "        super(SimpleRNN, self).__init__()\n",
        "        self.hidden_size = hidden_size\n",
        "        self.rnn_cell = nn.RNN(input_size, hidden_size, batch_first=True)\n",
        "        self.fc = nn.Linear(hidden_size, output_size)\n",
        "\n",
        "    def forward(self, x, h0):\n",
        "        out, hn = self.rnn_cell(x, h0)\n",
        "        out = out[:, -1, :]  # Take output from last time step\n",
        "        out = self.fc(out)\n",
        "        return out\n",
        "\n",
        "# Instantiate the model\n",
        "model = SimpleRNN(input_size, hidden_size, output_size)\n",
        "\n",
        "# Loss function and optimizer\n",
        "criterion = nn.MSELoss()\n",
        "optimizer = torch.optim.Adam(model.parameters(), lr=learning_rate)\n",
        "\n",
        "# Training loop\n",
        "for epoch in range(num_epochs):\n",
        "    # Forward pass\n",
        "    outputs = model(X_train, torch.zeros(1, X_train.size(0), hidden_size))\n",
        "    loss = criterion(outputs, Y_train)\n",
        "\n",
        "    # Backward and optimize\n",
        "    optimizer.zero_grad()\n",
        "    loss.backward()\n",
        "    optimizer.step()\n",
        "\n",
        "    if (epoch+1) % 10 == 0:\n",
        "        print(f'Epoch [{epoch+1}/{num_epochs}], Loss: {loss.item():.4f}')\n",
        "\n",
        "# Prediction\n",
        "future = 10  # Number of future time steps to predict\n",
        "preds = []\n",
        "x = X_train[-1]  # Taking the last input sequence from training data\n",
        "for _ in range(future):\n",
        "    with torch.no_grad():\n",
        "        x = x.reshape(1, T, input_size)\n",
        "        output = model(x, torch.zeros(1, 1, hidden_size))\n",
        "        preds.append(output.item())\n",
        "        x = np.append(x[:, 1:, :], output.numpy().reshape(1, 1, input_size), axis=1)\n",
        "\n",
        "# Plotting predictions\n",
        "import matplotlib.pyplot as plt\n",
        "plt.figure(figsize=(10, 5))\n",
        "plt.plot(np.arange(len(series)), series, label='Original')\n",
        "plt.plot(np.arange(len(series), len(series) + future), preds, label='Predicted')\n",
        "plt.legend()\n",
        "plt.show()\n"
      ],
      "metadata": {
        "id": "ehnF4EEF_nyF"
      },
      "execution_count": null,
      "outputs": []
    }
  ]
}
